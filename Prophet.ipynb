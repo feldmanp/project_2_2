{
 "cells": [
  {
   "cell_type": "code",
   "execution_count": null,
   "id": "c0f033e9-a92f-40b3-ad93-2d263a75e8fd",
   "metadata": {},
   "outputs": [],
   "source": [
    "# Install and import the libraries and dependencies\n",
    "\n",
    "# Install the required libraries\n",
    "!pip install pystan~=2.14\n",
    "!pip install fbprophet\n",
    "!pip install hvplot\n",
    "!pip install holoviews"
   ]
  },
  {
   "cell_type": "code",
   "execution_count": null,
   "id": "41d434ad-934a-400a-9799-4d5739cbddd4",
   "metadata": {},
   "outputs": [],
   "source": [
    "# Import the required libraries and dependencies\n",
    "import pandas as pd\n",
    "import holoviews as hv\n",
    "from fbprophet import Prophet\n",
    "import hvplot.pandas\n",
    "import datetime as dt\n",
    "%matplotlib inline\n",
    "import numpy as np"
   ]
  },
  {
   "cell_type": "code",
   "execution_count": null,
   "id": "7f9d1efa-19cc-47f1-a52a-23e45365d962",
   "metadata": {},
   "outputs": [],
   "source": [
    "# User inputs\n",
    "\n",
    "# Ticker of the stock user would like to pick\n",
    "ticker = input(\"Enter the ticker you would like to pick: \")\n",
    "print(\"You have picked\" + ticker)\n",
    "\n",
    "# Period of time user wants to hold\n",
    "holding_period = input(\"How many days would you like to hold this stock for? \")\n",
    "print(\"You would like to hold this stock for\" + holding_period + \"days\")"
   ]
  },
  {
   "cell_type": "code",
   "execution_count": 4,
   "id": "58333202-f1cc-42d2-95bc-e600d404b3a5",
   "metadata": {},
   "outputs": [
    {
     "ename": "SyntaxError",
     "evalue": "invalid character in identifier (509939719.py, line 11)",
     "output_type": "error",
     "traceback": [
      "\u001b[1;36m  File \u001b[1;32m\"C:\\Users\\Ha D T Nguyen\\AppData\\Local\\Temp\\ipykernel_7972\\509939719.py\"\u001b[1;36m, line \u001b[1;32m11\u001b[0m\n\u001b[1;33m    historical_date = dt.datetime.today() – datetime.timedelta(days=holding_period)\u001b[0m\n\u001b[1;37m                                          ^\u001b[0m\n\u001b[1;31mSyntaxError\u001b[0m\u001b[1;31m:\u001b[0m invalid character in identifier\n"
     ]
    }
   ],
   "source": [
    "# Data preparation\n",
    "\n",
    "# Upload the data and store it into dataframe\n",
    "\n",
    "# Assume the dataframe is \"df\" now\n",
    "\n",
    "# Slice an equal amount of \"holding_period\" of historical data\n",
    "# Assume the starting point is the day before current day, bringing backward for\n",
    "# the \"holding_period\"\n",
    "today = dt.datetime.today\n",
    "historical_date = dt.datetime.today() – datetime.timedelta(days=holding_period)\n",
    "historical_data = df.loc[\"historical_date\":\"today\"]\n",
    "\n",
    "# Plot this historical data\n",
    "historical_data.hvplot()\n",
    "\n",
    "# Reset the index (if necessary) and put the \"ds\" \"y\" format to be recognised by Prophet\n",
    "historical_data_prophet = historical_data.reset_index()\n",
    "historical_data_prophet.columns = ['ds','y']\n",
    "historical_data_prophet.head()"
   ]
  },
  {
   "cell_type": "code",
   "execution_count": null,
   "id": "a7cf910f-f98f-4639-ae90-800f0340266c",
   "metadata": {},
   "outputs": [],
   "source": [
    "# Employ Prophet\n",
    "\n",
    "# Create an instance \n",
    "Prophet_model = Prophet()\n",
    "\n",
    "# Fit in the dataframe\n",
    "Prophet_model.fit(historical_data_prophet)\n",
    "\n",
    "# Create future dataframe to hold predictions\n",
    "future_price = Prophet_model.make_future_dataframe(periods=holding_period, freq=\"D\")\n",
    "\n",
    "# Check the future dataframe\n",
    "future_price.tail()\n",
    "\n",
    "# Make predictions\n",
    "forecast_price = Prophet_model.predict(future_price)\n",
    "# Check the prediction dataframe\n",
    "forecast_price.head()\n",
    "\n",
    "# Plot the prediction\n",
    "Prophet_model.plot(forecast_price)\n",
    "\n",
    "# Display 3 scenarios \"yhat_lower\", \"yhat\", and \"yhat_upper\"\n",
    "# Set the index in the forecast_mercado_trends DataFrame to the ds datetime column\n",
    "forecast_price=forecast_price.set_index('ds')\n",
    "\n",
    "# View the only the yhat,yhat_lower and yhat_upper columns from the DataFrame\n",
    "forecast_price[['yhat','yhat_lower','yhat_upper']]"
   ]
  },
  {
   "cell_type": "code",
   "execution_count": 3,
   "id": "22574ca2-deb0-4e9e-aba7-602572275cda",
   "metadata": {},
   "outputs": [
    {
     "name": "stdout",
     "output_type": "stream",
     "text": [
      "2022-09-29 19:35:27.619488\n"
     ]
    }
   ],
   "source": [
    "# For testing only\n",
    "import datetime as dt\n",
    "today = dt.datetime.today()\n",
    "print(today)"
   ]
  },
  {
   "cell_type": "code",
   "execution_count": null,
   "id": "25ad78f5-2d72-4558-b744-e55534882983",
   "metadata": {},
   "outputs": [],
   "source": []
  }
 ],
 "metadata": {
  "kernelspec": {
   "display_name": "Python 3 (ipykernel)",
   "language": "python",
   "name": "python3"
  },
  "language_info": {
   "codemirror_mode": {
    "name": "ipython",
    "version": 3
   },
   "file_extension": ".py",
   "mimetype": "text/x-python",
   "name": "python",
   "nbconvert_exporter": "python",
   "pygments_lexer": "ipython3",
   "version": "3.7.13"
  }
 },
 "nbformat": 4,
 "nbformat_minor": 5
}
