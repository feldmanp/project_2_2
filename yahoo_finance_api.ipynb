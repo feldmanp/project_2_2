{
 "cells": [
  {
   "cell_type": "markdown",
   "id": "8d433a73-5fd0-4b8c-81d2-fb24697a3934",
   "metadata": {},
   "source": [
    "## Before runninng the following code, make sure you have installed yfinance. \n",
    "\n",
    "## The installation follows: \n",
    "\n",
    "### 1. !pip install yfinance\n",
    "\n",
    "### 2. check whether you have installed yfinance by conda list yfinance \n",
    "\n",
    "source: https://blog.quantinsti.com/historical-market-data-python-api/"
   ]
  },
  {
   "cell_type": "code",
   "execution_count": null,
   "id": "e8add704-5693-4a8b-80f6-b67e95357a74",
   "metadata": {},
   "outputs": [],
   "source": [
    "# Import yfinance and matplotlib\n",
    "import yfinance as yf  \n",
    "import matplotlib.pyplot as plt\n",
    "import pandas as pd "
   ]
  },
  {
   "cell_type": "code",
   "execution_count": null,
   "id": "b1abfe03-2db3-4747-a99b-f73d39ee636a",
   "metadata": {},
   "outputs": [],
   "source": [
    "#Input the stock name \n",
    "\n",
    "stock = ['AAPL']"
   ]
  },
  {
   "cell_type": "code",
   "execution_count": null,
   "id": "eba73636-4340-4498-91e8-132f163a70be",
   "metadata": {},
   "outputs": [],
   "source": [
    "# Fetch stock data from yahoo api \n",
    "data = yf.download(stock,'2015-01-01','2020-01-01')\n",
    "\n",
    "display(data)"
   ]
  },
  {
   "cell_type": "code",
   "execution_count": null,
   "id": "e3899d77-217c-4df1-96c8-ac4a88e22db9",
   "metadata": {},
   "outputs": [],
   "source": [
    "# create new dataframe to hold the close value \n",
    "\n",
    "close = pd.DataFrame()\n",
    "\n",
    "#extract 'Close' data from above data frame to new data frame \n",
    "\n",
    "close['close'] = data['Close']\n",
    "\n",
    "display(close)"
   ]
  },
  {
   "cell_type": "code",
   "execution_count": null,
   "id": "f9c83046-919d-487e-9e2b-4a39caa4d10b",
   "metadata": {
    "tags": []
   },
   "outputs": [],
   "source": [
    "# Reset index to prep for formatting the time stamp \n",
    "close = close.reset_index()\n",
    "\n",
    "display(close)"
   ]
  },
  {
   "cell_type": "code",
   "execution_count": null,
   "id": "02659407-1f5a-42c9-acb6-260561781f78",
   "metadata": {},
   "outputs": [],
   "source": [
    "# Ensure the time stamp format works for prophet. \n",
    "close[\"Date\"] = pd.to_datetime(\n",
    "    close[\"Date\"],\n",
    "    infer_datetime_format=True,\n",
    "    utc=True\n",
    ")\n",
    "\n",
    "#set index as Date \n",
    "\n",
    "close = close.set_index('Date')"
   ]
  },
  {
   "cell_type": "code",
   "execution_count": null,
   "id": "1515649c-d630-4314-b43b-f116acd5e442",
   "metadata": {},
   "outputs": [],
   "source": []
  },
  {
   "cell_type": "code",
   "execution_count": null,
   "id": "c9b0d39a-1b93-4c01-ac96-b31ca1c75095",
   "metadata": {},
   "outputs": [],
   "source": []
  },
  {
   "cell_type": "code",
   "execution_count": null,
   "id": "eccf7f30-0023-493b-bae2-dba1631b5ca4",
   "metadata": {},
   "outputs": [],
   "source": []
  },
  {
   "cell_type": "code",
   "execution_count": null,
   "id": "000735e4-dfed-47d3-ac48-fa252ad12b6a",
   "metadata": {},
   "outputs": [],
   "source": []
  },
  {
   "cell_type": "code",
   "execution_count": null,
   "id": "1387198a-df33-4804-93ed-fe98608aa131",
   "metadata": {},
   "outputs": [],
   "source": []
  }
 ],
 "metadata": {
  "kernelspec": {
   "display_name": "Python 3 (ipykernel)",
   "language": "python",
   "name": "python3"
  },
  "language_info": {
   "codemirror_mode": {
    "name": "ipython",
    "version": 3
   },
   "file_extension": ".py",
   "mimetype": "text/x-python",
   "name": "python",
   "nbconvert_exporter": "python",
   "pygments_lexer": "ipython3",
   "version": "3.8.8"
  }
 },
 "nbformat": 4,
 "nbformat_minor": 5
}
